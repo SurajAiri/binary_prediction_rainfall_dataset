{
 "cells": [
  {
   "cell_type": "code",
   "execution_count": 1,
   "metadata": {},
   "outputs": [
    {
     "name": "stdout",
     "output_type": "stream",
     "text": [
      "Successfully changed working directory:  /Users/suraj/vscode/aiml/kaggle/binary_prediction_rainfall_dataset\n",
      "Current working directory:  /Users/suraj/vscode/aiml/kaggle/binary_prediction_rainfall_dataset\n"
     ]
    }
   ],
   "source": [
    "import os\n",
    "\n",
    "def set_project_rood_dir():\n",
    "    notebook_dir = os.path.dirname(os.path.abspath(\"__file__\"))\n",
    "    paths = notebook_dir.split(\"/\")\n",
    "\n",
    "    # remove directory unless notebook/s directory is found\n",
    "    while len(paths) > 0:\n",
    "        if paths[-1] == 'notebook' or paths[-1] == 'notebooks':\n",
    "            paths.pop()\n",
    "            break\n",
    "        paths.pop()\n",
    "\n",
    "    # show error if paths is empty\n",
    "    if len(paths) == 0:\n",
    "        print(\"Current directory: \", notebook_dir)\n",
    "        raise ValueError(\"Unable to find notebook/s directory in path\")\n",
    "\n",
    "    root = \"/\".join(paths)\n",
    "    os.chdir(root)\n",
    "    print(\"Successfully changed working directory: \", root)\n",
    "    print(\"Current working directory: \", os.getcwd())\n",
    "\n",
    "\n",
    "set_project_rood_dir()"
   ]
  },
  {
   "cell_type": "code",
   "execution_count": 2,
   "metadata": {},
   "outputs": [],
   "source": [
    "import pandas as pd\n",
    "import numpy as np\n",
    "import matplotlib.pyplot as plt\n",
    "import seaborn as sns\n",
    "\n",
    "DATA_PATH = \"data/raw/train.csv\"\n",
    "TEST_DATA_PATH = \"data/raw/test.csv\"\n",
    "\n",
    "df = pd.read_csv(DATA_PATH, index_col=0)\n",
    "test_df = pd.read_csv(TEST_DATA_PATH, index_col=0)"
   ]
  },
  {
   "cell_type": "code",
   "execution_count": 3,
   "metadata": {},
   "outputs": [
    {
     "name": "stdout",
     "output_type": "stream",
     "text": [
      "ROC-AUC Score with SMOTE: 0.8730802665893943\n"
     ]
    }
   ],
   "source": [
    "from imblearn.over_sampling import SMOTE\n",
    "from sklearn.model_selection import train_test_split\n",
    "from sklearn.metrics import roc_auc_score\n",
    "from sklearn.ensemble import RandomForestClassifier\n",
    "\n",
    "# Split data into features and target\n",
    "X = df.drop('rainfall', axis=1)\n",
    "y = df['rainfall']\n",
    "\n",
    "# Split into training and test sets\n",
    "X_train, X_test, y_train, y_test = train_test_split(X, y, test_size=0.2, random_state=42)\n",
    "\n",
    "# Apply SMOTE oversampling\n",
    "smote = SMOTE(random_state=42)\n",
    "X_train_res, y_train_res = smote.fit_resample(X_train, y_train)\n",
    "\n",
    "# Train a model with the resampled data\n",
    "model = RandomForestClassifier(random_state=42)\n",
    "model.fit(X_train_res, y_train_res)\n",
    "\n",
    "# Predict and evaluate\n",
    "y_pred = model.predict_proba(X_test)[:, 1]\n",
    "auc_score = roc_auc_score(y_test, y_pred)\n",
    "print(f\"ROC-AUC Score with SMOTE: {auc_score}\")\n"
   ]
  },
  {
   "cell_type": "code",
   "execution_count": 4,
   "metadata": {},
   "outputs": [
    {
     "name": "stdout",
     "output_type": "stream",
     "text": [
      "ROC-AUC Score with Class Weighting: 0.8594873686151576\n"
     ]
    }
   ],
   "source": [
    "from sklearn.ensemble import RandomForestClassifier\n",
    "\n",
    "# Train a model with class weighting\n",
    "model = RandomForestClassifier(class_weight='balanced', random_state=42)\n",
    "model.fit(X_train, y_train)\n",
    "\n",
    "# Predict and evaluate\n",
    "y_pred = model.predict_proba(X_test)[:, 1]\n",
    "auc_score = roc_auc_score(y_test, y_pred)\n",
    "print(f\"ROC-AUC Score with Class Weighting: {auc_score}\")\n"
   ]
  },
  {
   "cell_type": "code",
   "execution_count": 5,
   "metadata": {},
   "outputs": [
    {
     "name": "stdout",
     "output_type": "stream",
     "text": [
      "Ensemble ROC-AUC Score: 0.8579989989726298\n"
     ]
    }
   ],
   "source": [
    "import numpy as np\n",
    "from sklearn.model_selection import train_test_split\n",
    "from sklearn.ensemble import RandomForestClassifier\n",
    "from sklearn.metrics import roc_auc_score\n",
    "\n",
    "# Assuming df is your DataFrame and 'rainfall' is your target variable\n",
    "\n",
    "# Split data into features and target\n",
    "X = df.drop('rainfall', axis=1)\n",
    "y = df['rainfall']\n",
    "\n",
    "# Split into training and test sets\n",
    "X_train, X_test, y_train, y_test = train_test_split(X, y, test_size=0.2, random_state=42)\n",
    "\n",
    "# Identify majority and minority classes\n",
    "majority_class = y_train[y_train == 0]\n",
    "minority_class = y_train[y_train == 1]\n",
    "\n",
    "# Split majority class into subsets\n",
    "num_subsets = 3  # Example: Split into 3 subsets\n",
    "subset_size = len(majority_class) // num_subsets\n",
    "\n",
    "# Initialize lists to hold predictions\n",
    "predictions = []\n",
    "\n",
    "for i in range(num_subsets):\n",
    "    # Select subset of majority class\n",
    "    start_idx = i * subset_size\n",
    "    end_idx = (i + 1) * subset_size if i < num_subsets - 1 else len(majority_class)\n",
    "    subset_majority = majority_class.iloc[start_idx:end_idx]\n",
    "    \n",
    "    # Combine subset with minority class\n",
    "    X_subset = pd.concat([X_train[y_train == 0].iloc[start_idx:end_idx], X_train[y_train == 1]], ignore_index=True)\n",
    "    y_subset = pd.concat([subset_majority, minority_class], ignore_index=True)\n",
    "    \n",
    "    # Train model on subset\n",
    "    model = RandomForestClassifier(random_state=42)\n",
    "    model.fit(X_subset, y_subset)\n",
    "    \n",
    "    # Predict on test set\n",
    "    y_pred_proba = model.predict_proba(X_test)[:, 1]\n",
    "    predictions.append(y_pred_proba)\n",
    "\n",
    "# Ensemble predictions (simple average)\n",
    "y_pred_ensemble = np.mean(predictions, axis=0)\n",
    "\n",
    "# Evaluate ensemble\n",
    "auc_score_ensemble = roc_auc_score(y_test, y_pred_ensemble)\n",
    "print(f\"Ensemble ROC-AUC Score: {auc_score_ensemble}\")\n"
   ]
  },
  {
   "cell_type": "code",
   "execution_count": 6,
   "metadata": {},
   "outputs": [
    {
     "name": "stdout",
     "output_type": "stream",
     "text": [
      "EasyEnsembleClassifier ROC-AUC Score: 0.8717631253128211\n"
     ]
    }
   ],
   "source": [
    "from imblearn.ensemble import EasyEnsembleClassifier\n",
    "from sklearn.metrics import roc_auc_score\n",
    "\n",
    "# Initialize EasyEnsembleClassifier\n",
    "eec = EasyEnsembleClassifier(random_state=42, n_estimators=10)  # n_estimators is the number of balanced subsets\n",
    "\n",
    "# Fit the model\n",
    "eec.fit(X_train, y_train)\n",
    "\n",
    "# Predict probabilities\n",
    "y_pred_proba = eec.predict_proba(X_test)[:, 1]\n",
    "\n",
    "# Evaluate ROC-AUC\n",
    "auc_score = roc_auc_score(y_test, y_pred_proba)\n",
    "print(f\"EasyEnsembleClassifier ROC-AUC Score: {auc_score}\")\n"
   ]
  },
  {
   "cell_type": "code",
   "execution_count": null,
   "metadata": {},
   "outputs": [
    {
     "ename": "ImportError",
     "evalue": "cannot import name 'BalanceCascade' from 'imblearn.ensemble' (/Users/suraj/vscode/aiml/kaggle/binary_prediction_rainfall_dataset/.venv/lib/python3.12/site-packages/imblearn/ensemble/__init__.py)",
     "output_type": "error",
     "traceback": [
      "\u001b[31m---------------------------------------------------------------------------\u001b[39m",
      "\u001b[31mImportError\u001b[39m                               Traceback (most recent call last)",
      "\u001b[36mCell\u001b[39m\u001b[36m \u001b[39m\u001b[32mIn[7]\u001b[39m\u001b[32m, line 1\u001b[39m\n\u001b[32m----> \u001b[39m\u001b[32m1\u001b[39m \u001b[38;5;28;01mfrom\u001b[39;00m\u001b[38;5;250m \u001b[39m\u001b[34;01mimblearn\u001b[39;00m\u001b[34;01m.\u001b[39;00m\u001b[34;01mensemble\u001b[39;00m\u001b[38;5;250m \u001b[39m\u001b[38;5;28;01mimport\u001b[39;00m BalanceCascade\n\u001b[32m      2\u001b[39m \u001b[38;5;28;01mfrom\u001b[39;00m\u001b[38;5;250m \u001b[39m\u001b[34;01msklearn\u001b[39;00m\u001b[34;01m.\u001b[39;00m\u001b[34;01mensemble\u001b[39;00m\u001b[38;5;250m \u001b[39m\u001b[38;5;28;01mimport\u001b[39;00m RandomForestClassifier\n\u001b[32m      3\u001b[39m \u001b[38;5;28;01mfrom\u001b[39;00m\u001b[38;5;250m \u001b[39m\u001b[34;01msklearn\u001b[39;00m\u001b[34;01m.\u001b[39;00m\u001b[34;01mmetrics\u001b[39;00m\u001b[38;5;250m \u001b[39m\u001b[38;5;28;01mimport\u001b[39;00m roc_auc_score\n",
      "\u001b[31mImportError\u001b[39m: cannot import name 'BalanceCascade' from 'imblearn.ensemble' (/Users/suraj/vscode/aiml/kaggle/binary_prediction_rainfall_dataset/.venv/lib/python3.12/site-packages/imblearn/ensemble/__init__.py)"
     ]
    }
   ],
   "source": [
    "from imblearn.ensemble import BalanceCascade\n",
    "from sklearn.ensemble import RandomForestClassifier\n",
    "from sklearn.metrics import roc_auc_score\n",
    "\n",
    "# Initialize BalanceCascade\n",
    "bc = BalanceCascade(random_state=42, estimator=RandomForestClassifier(random_state=42))\n",
    "\n",
    "# Fit and resample the data\n",
    "X_resampled, y_resampled = bc.fit_resample(X_train, y_train)\n",
    "\n",
    "# Train a classifier on the resampled data (example: RandomForest)\n",
    "model = RandomForestClassifier(random_state=42)\n",
    "model.fit(X_resampled, y_resampled)\n",
    "\n",
    "# Predict probabilities\n",
    "y_pred_proba = model.predict_proba(X_test)[:, 1]\n",
    "\n",
    "# Evaluate ROC-AUC\n",
    "auc_score = roc_auc_score(y_test, y_pred_proba)\n",
    "print(f\"BalanceCascade ROC-AUC Score: {auc_score}\")\n"
   ]
  },
  {
   "cell_type": "code",
   "execution_count": 11,
   "metadata": {},
   "outputs": [
    {
     "name": "stdout",
     "output_type": "stream",
     "text": [
      "BalancedBaggingClassifier ROC-AUC Score: 0.8445114723005189\n"
     ]
    }
   ],
   "source": [
    "from imblearn.ensemble import BalancedBaggingClassifier\n",
    "from sklearn.tree import DecisionTreeClassifier\n",
    "from sklearn.metrics import roc_auc_score\n",
    "\n",
    "# Initialize BalancedBaggingClassifier\n",
    "bbc = BalancedBaggingClassifier(\n",
    "    estimator=DecisionTreeClassifier(),\n",
    "    sampling_strategy='auto',\n",
    "    random_state=42,\n",
    "    n_estimators=10  # Number of balanced subsets\n",
    ")\n",
    "\n",
    "# Fit the model\n",
    "bbc.fit(X_train, y_train)\n",
    "\n",
    "# Predict probabilities\n",
    "y_pred_proba = bbc.predict_proba(X_test)[:, 1]\n",
    "\n",
    "# Evaluate ROC-AUC\n",
    "auc_score = roc_auc_score(y_test, y_pred_proba)\n",
    "print(f\"BalancedBaggingClassifier ROC-AUC Score: {auc_score}\")\n"
   ]
  },
  {
   "cell_type": "code",
   "execution_count": null,
   "metadata": {},
   "outputs": [],
   "source": []
  }
 ],
 "metadata": {
  "kernelspec": {
   "display_name": ".venv",
   "language": "python",
   "name": "python3"
  },
  "language_info": {
   "codemirror_mode": {
    "name": "ipython",
    "version": 3
   },
   "file_extension": ".py",
   "mimetype": "text/x-python",
   "name": "python",
   "nbconvert_exporter": "python",
   "pygments_lexer": "ipython3",
   "version": "3.12.9"
  }
 },
 "nbformat": 4,
 "nbformat_minor": 2
}
